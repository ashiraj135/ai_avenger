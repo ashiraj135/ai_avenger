{
 "cells": [
  {
   "cell_type": "code",
   "execution_count": null,
   "metadata": {},
   "outputs": [],
   "source": [
    "#import pandas as pd\n",
    "from azure.ai.openai import *\n",
    "from azure.identity import DefaultAzureCredential\n",
    "\n",
    "\n",
    "# Initialize the OpenAI client\n",
    "credential = DefaultAzureCredential()\n",
    "openai_client = OpenAIClient('9cd2c3fe90304ad081ebd4e4fa594796', endpoint=\"https://genai-openai-aiavengers.openai.azure.com/openai/deployments/gpt-35-turbo/chat/completions?api-version=2024-08-01-preview\")\n"
   ]
  }
 ],
 "metadata": {
  "kernelspec": {
   "display_name": ".venv",
   "language": "python",
   "name": "python3"
  },
  "language_info": {
   "name": "python",
   "version": "3.12.6"
  }
 },
 "nbformat": 4,
 "nbformat_minor": 2
}
