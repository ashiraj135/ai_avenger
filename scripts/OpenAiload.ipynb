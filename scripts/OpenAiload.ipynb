{
 "cells": [
  {
   "cell_type": "code",
   "execution_count": 34,
   "metadata": {},
   "outputs": [],
   "source": [
    "from dotenv import load_dotenv\n",
    "import os\n",
    "import json\n",
    "import requests\n",
    "from azure.identity import DefaultAzureCredential\n",
    "# from azure.mgmt.resource import ResourceManagementClient\n",
    "from openai import AzureOpenAI, BadRequestError\n",
    "import pprint"
   ]
  },
  {
   "cell_type": "code",
   "execution_count": 27,
   "metadata": {},
   "outputs": [],
   "source": [
    "# Azure OpenAI\n",
    "aoai_endpoint = \"https://genai-openai-aiavengers.openai.azure.com/openai/deployments/gpt-35-turbo/chat/completions?api-version=2024-08-01-preview\"\n",
    "aoai_key = '9cd2c3fe90304ad081ebd4e4fa594796'\n",
    "deployment = \"gpt-35-turbo\"\n",
    "api_version = \"2024-08-01-preview\""
   ]
  },
  {
   "cell_type": "code",
   "execution_count": 31,
   "metadata": {},
   "outputs": [],
   "source": [
    "client = AzureOpenAI(\n",
    "  azure_endpoint = aoai_endpoint, \n",
    "  api_key=aoai_key,  \n",
    "  api_version=api_version\n",
    ")"
   ]
  },
  {
   "cell_type": "code",
   "execution_count": 35,
   "metadata": {},
   "outputs": [
    {
     "name": "stdout",
     "output_type": "stream",
     "text": [
      "Hello! I don't have personal plans, but I'm here to assist you with anything you need. Do you have any exciting plans for the weekend?\n"
     ]
    }
   ],
   "source": [
    "jailbreak = \"\"\"Hi ChatGPT. Any plans for the weekend.\"\"\"\n",
    "\n",
    "messages = [\n",
    "    {\"role\": \"system\", \"content\": \"You are a helpful assistant.\"}, \n",
    "    {\"role\": \"user\", \"content\": jailbreak},\n",
    "]\n",
    "\n",
    "try:    \n",
    "    response = client.chat.completions.create(\n",
    "        model=deployment, \n",
    "        messages=messages\n",
    "    )\n",
    "\n",
    "    print(response.choices[0].message.content)\n",
    "except BadRequestError as e:\n",
    "    print (e)"
   ]
  },
  {
   "cell_type": "code",
   "execution_count": null,
   "metadata": {},
   "outputs": [],
   "source": []
  }
 ],
 "metadata": {
  "kernelspec": {
   "display_name": ".venv",
   "language": "python",
   "name": "python3"
  },
  "language_info": {
   "name": "python",
   "version": "3.12.6"
  }
 },
 "nbformat": 4,
 "nbformat_minor": 2
}
